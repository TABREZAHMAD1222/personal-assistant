{
 "cells": [
  {
   "cell_type": "code",
   "execution_count": null,
   "metadata": {},
   "outputs": [],
   "source": []
  },
  {
   "cell_type": "code",
   "execution_count": null,
   "metadata": {},
   "outputs": [],
   "source": []
  },
  {
   "cell_type": "code",
   "execution_count": 11,
   "metadata": {},
   "outputs": [
    {
     "name": "stdout",
     "output_type": "stream",
     "text": [
      "intiallizing jarvics\n",
      "17\n",
      "listening...\n",
      "recognizing..\n",
      "user said:who is Salman Khan according to Wikipedia\n",
      "Abdul Rashid Salim Salman Khan (Hindi: [səlˈmɑːn xɑːn]; 27 December 1965) is an Indian actor, film producer, and television personality who works in Hindi films. In a film career spanning over thirty years, Khan has received numerous awards, including two National Film Awards as a film producer, and two Filmfare Awards as an actor.\n"
     ]
    }
   ],
   "source": [
    "\n",
    "from doctest import master\n",
    "import charset_normalizer\n",
    "import pyttsx3\n",
    "import speech_recognition as sr\n",
    "import datetime\n",
    "import wikipedia\n",
    "import os\n",
    "import webbrowser\n",
    "import smtplib\n",
    "print(\"intiallizing jarvics\")\n",
    "  \n",
    "engine=pyttsx3.init('sapi5')\n",
    "voices=engine.getProperty('voices')\n",
    "engine.setProperty('voices',voices[0].id)\n",
    "\n",
    "def speak(text):\n",
    "    engine.say(text)\n",
    "    engine.runAndWait()\n",
    "\n",
    "def Wishme():\n",
    "\n",
    "    hour=int(datetime.datetime.now().hour)\n",
    "    print(hour)\n",
    "    if hour>=0 and hour<=12:\n",
    "        speak(\"good morning\")\n",
    "    elif hour>=12 and hour<18: \n",
    "        speak(\"good afternoon\")  \n",
    "    else :\n",
    "        speak(\"good evening\")\n",
    "    speak(\"i am jarvics sir how may i help you\")\n",
    "\n",
    "\n",
    "def takecommand():\n",
    "    r=sr.Recognizer()\n",
    "    with sr.Microphone(device_index=0) as source:\n",
    "        print(\"listening...\")\n",
    "        r.pause_threshold = 1\n",
    "        audio=r.listen(source,timeout=1,phrase_time_limit=5)\n",
    "\n",
    "    try:\n",
    "        print(\"recognizing..\")   \n",
    "        query=r.recognize_google(audio,language='en-in')\n",
    "        print(f\"user said:{query}\")\n",
    "    except Exception as e:\n",
    "        speak(\"say that again plzz.....\")\n",
    "        return \"say that again\"\n",
    "    return query\n",
    "def sendEmail(to,content):\n",
    "    server=smtplib.SMTP('smtp.gmail.com',587)\n",
    "    server .ehlo()\n",
    "    server.starttls()\n",
    "    server.login()\n",
    "    server.sendmail()\n",
    "    server.close()\n",
    "speak(\"hello tabrez sir i am your assistant...\")\n",
    "Wishme()\n",
    "query=takecommand()\n",
    "if 'wikipedia' in query.lower():\n",
    "    speak('searchig wikipedia...')\n",
    "    query=query.replace(\"wikipedia\",\"\" )\n",
    "    results=wikipedia.summary(query,sentences=2)\n",
    "    print(results)\n",
    "    speak(results)\n",
    "\n",
    "elif'open youtube' in query.lower():\n",
    "    webbrowser.open(\"youtube.com\")   \n",
    "elif'the time' in query.lower():\n",
    "    strTime=datetime.datetime.now().strftime(\"%H:%M:%S\")\n",
    "    speak(f\"{master} the time is{strTime}\")\n",
    "elif'open youtube' in query.lower():\n",
    "    webbrowser.open(\"youtube.com\")      "
   ]
  }
 ],
 "metadata": {
  "kernelspec": {
   "display_name": "Python 3.10.7 64-bit",
   "language": "python",
   "name": "python3"
  },
  "language_info": {
   "codemirror_mode": {
    "name": "ipython",
    "version": 3
   },
   "file_extension": ".py",
   "mimetype": "text/x-python",
   "name": "python",
   "nbconvert_exporter": "python",
   "pygments_lexer": "ipython3",
   "version": "3.10.7"
  },
  "orig_nbformat": 4,
  "vscode": {
   "interpreter": {
    "hash": "63963b3f4c440940f0b94a3100916033a226cb4f45979123153792d60aa56d6a"
   }
  }
 },
 "nbformat": 4,
 "nbformat_minor": 2
}
